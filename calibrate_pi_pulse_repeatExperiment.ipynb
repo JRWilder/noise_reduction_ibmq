{
  "nbformat": 4,
  "nbformat_minor": 0,
  "metadata": {
    "colab": {
      "name": "calibrate_pi_pulse_repeatExperiment.ipynb",
      "provenance": [],
      "collapsed_sections": []
    },
    "kernelspec": {
      "name": "python3",
      "display_name": "Python 3"
    }
  },
  "cells": [
    {
      "cell_type": "code",
      "metadata": {
        "id": "qCRbPzdSM18W",
        "colab": {
          "base_uri": "https://localhost:8080/"
        },
        "outputId": "74eeaf1d-be73-4375-9583-c71f6fbdc0cd"
      },
      "source": [
        "!pip install qiskit"
      ],
      "execution_count": null,
      "outputs": [
        {
          "output_type": "stream",
          "text": [
            "Requirement already satisfied: qiskit in /usr/local/lib/python3.6/dist-packages (0.23.1)\n",
            "Requirement already satisfied: qiskit-terra==0.16.1 in /usr/local/lib/python3.6/dist-packages (from qiskit) (0.16.1)\n",
            "Requirement already satisfied: qiskit-aer==0.7.1 in /usr/local/lib/python3.6/dist-packages (from qiskit) (0.7.1)\n",
            "Requirement already satisfied: qiskit-ibmq-provider==0.11.1 in /usr/local/lib/python3.6/dist-packages (from qiskit) (0.11.1)\n",
            "Requirement already satisfied: qiskit-aqua==0.8.1 in /usr/local/lib/python3.6/dist-packages (from qiskit) (0.8.1)\n",
            "Requirement already satisfied: qiskit-ignis==0.5.1 in /usr/local/lib/python3.6/dist-packages (from qiskit) (0.5.1)\n",
            "Requirement already satisfied: scipy>=1.4 in /usr/local/lib/python3.6/dist-packages (from qiskit-terra==0.16.1->qiskit) (1.4.1)\n",
            "Requirement already satisfied: fastjsonschema>=2.10 in /usr/local/lib/python3.6/dist-packages (from qiskit-terra==0.16.1->qiskit) (2.14.5)\n",
            "Requirement already satisfied: retworkx>=0.5.0 in /usr/local/lib/python3.6/dist-packages (from qiskit-terra==0.16.1->qiskit) (0.6.0)\n",
            "Requirement already satisfied: psutil>=5 in /usr/local/lib/python3.6/dist-packages (from qiskit-terra==0.16.1->qiskit) (5.4.8)\n",
            "Requirement already satisfied: ply>=3.10 in /usr/local/lib/python3.6/dist-packages (from qiskit-terra==0.16.1->qiskit) (3.11)\n",
            "Requirement already satisfied: python-constraint>=1.4 in /usr/local/lib/python3.6/dist-packages (from qiskit-terra==0.16.1->qiskit) (1.4.0)\n",
            "Requirement already satisfied: jsonschema>=2.6 in /usr/local/lib/python3.6/dist-packages (from qiskit-terra==0.16.1->qiskit) (2.6.0)\n",
            "Requirement already satisfied: sympy>=1.3 in /usr/local/lib/python3.6/dist-packages (from qiskit-terra==0.16.1->qiskit) (1.6.2)\n",
            "Requirement already satisfied: networkx>=2.2 in /usr/local/lib/python3.6/dist-packages (from qiskit-terra==0.16.1->qiskit) (2.5)\n",
            "Requirement already satisfied: python-dateutil>=2.8.0 in /usr/local/lib/python3.6/dist-packages (from qiskit-terra==0.16.1->qiskit) (2.8.1)\n",
            "Requirement already satisfied: dill>=0.3 in /usr/local/lib/python3.6/dist-packages (from qiskit-terra==0.16.1->qiskit) (0.3.3)\n",
            "Requirement already satisfied: numpy>=1.17 in /usr/local/lib/python3.6/dist-packages (from qiskit-terra==0.16.1->qiskit) (1.18.5)\n",
            "Requirement already satisfied: contextvars>=2.4; python_version < \"3.7\" in /usr/local/lib/python3.6/dist-packages (from qiskit-terra==0.16.1->qiskit) (2.4)\n",
            "Requirement already satisfied: pybind11>=2.4 in /usr/local/lib/python3.6/dist-packages (from qiskit-aer==0.7.1->qiskit) (2.6.1)\n",
            "Requirement already satisfied: cython>=0.27.1 in /usr/local/lib/python3.6/dist-packages (from qiskit-aer==0.7.1->qiskit) (0.29.21)\n",
            "Requirement already satisfied: urllib3>=1.21.1 in /usr/local/lib/python3.6/dist-packages (from qiskit-ibmq-provider==0.11.1->qiskit) (1.24.3)\n",
            "Requirement already satisfied: websockets>=8 in /usr/local/lib/python3.6/dist-packages (from qiskit-ibmq-provider==0.11.1->qiskit) (8.1)\n",
            "Requirement already satisfied: requests>=2.19 in /usr/local/lib/python3.6/dist-packages (from qiskit-ibmq-provider==0.11.1->qiskit) (2.23.0)\n",
            "Requirement already satisfied: requests-ntlm>=1.1.0 in /usr/local/lib/python3.6/dist-packages (from qiskit-ibmq-provider==0.11.1->qiskit) (1.1.0)\n",
            "Requirement already satisfied: nest-asyncio!=1.1.0,>=1.0.0 in /usr/local/lib/python3.6/dist-packages (from qiskit-ibmq-provider==0.11.1->qiskit) (1.4.3)\n",
            "Requirement already satisfied: yfinance in /usr/local/lib/python3.6/dist-packages (from qiskit-aqua==0.8.1->qiskit) (0.1.55)\n",
            "Requirement already satisfied: scikit-learn>=0.20.0 in /usr/local/lib/python3.6/dist-packages (from qiskit-aqua==0.8.1->qiskit) (0.22.2.post1)\n",
            "Requirement already satisfied: docplex in /usr/local/lib/python3.6/dist-packages (from qiskit-aqua==0.8.1->qiskit) (2.16.196)\n",
            "Requirement already satisfied: setuptools>=40.1.0 in /usr/local/lib/python3.6/dist-packages (from qiskit-aqua==0.8.1->qiskit) (50.3.2)\n",
            "Requirement already satisfied: dlx in /usr/local/lib/python3.6/dist-packages (from qiskit-aqua==0.8.1->qiskit) (1.0.4)\n",
            "Requirement already satisfied: h5py in /usr/local/lib/python3.6/dist-packages (from qiskit-aqua==0.8.1->qiskit) (2.10.0)\n",
            "Requirement already satisfied: quandl in /usr/local/lib/python3.6/dist-packages (from qiskit-aqua==0.8.1->qiskit) (3.5.3)\n",
            "Requirement already satisfied: pandas in /usr/local/lib/python3.6/dist-packages (from qiskit-aqua==0.8.1->qiskit) (1.1.4)\n",
            "Requirement already satisfied: fastdtw in /usr/local/lib/python3.6/dist-packages (from qiskit-aqua==0.8.1->qiskit) (0.3.4)\n",
            "Requirement already satisfied: mpmath>=0.19 in /usr/local/lib/python3.6/dist-packages (from sympy>=1.3->qiskit-terra==0.16.1->qiskit) (1.1.0)\n",
            "Requirement already satisfied: decorator>=4.3.0 in /usr/local/lib/python3.6/dist-packages (from networkx>=2.2->qiskit-terra==0.16.1->qiskit) (4.4.2)\n",
            "Requirement already satisfied: six>=1.5 in /usr/local/lib/python3.6/dist-packages (from python-dateutil>=2.8.0->qiskit-terra==0.16.1->qiskit) (1.15.0)\n",
            "Requirement already satisfied: immutables>=0.9 in /usr/local/lib/python3.6/dist-packages (from contextvars>=2.4; python_version < \"3.7\"->qiskit-terra==0.16.1->qiskit) (0.14)\n",
            "Requirement already satisfied: idna<3,>=2.5 in /usr/local/lib/python3.6/dist-packages (from requests>=2.19->qiskit-ibmq-provider==0.11.1->qiskit) (2.10)\n",
            "Requirement already satisfied: chardet<4,>=3.0.2 in /usr/local/lib/python3.6/dist-packages (from requests>=2.19->qiskit-ibmq-provider==0.11.1->qiskit) (3.0.4)\n",
            "Requirement already satisfied: certifi>=2017.4.17 in /usr/local/lib/python3.6/dist-packages (from requests>=2.19->qiskit-ibmq-provider==0.11.1->qiskit) (2020.6.20)\n",
            "Requirement already satisfied: ntlm-auth>=1.0.2 in /usr/local/lib/python3.6/dist-packages (from requests-ntlm>=1.1.0->qiskit-ibmq-provider==0.11.1->qiskit) (1.5.0)\n",
            "Requirement already satisfied: cryptography>=1.3 in /usr/local/lib/python3.6/dist-packages (from requests-ntlm>=1.1.0->qiskit-ibmq-provider==0.11.1->qiskit) (3.2.1)\n",
            "Requirement already satisfied: lxml>=4.5.1 in /usr/local/lib/python3.6/dist-packages (from yfinance->qiskit-aqua==0.8.1->qiskit) (4.6.1)\n",
            "Requirement already satisfied: multitasking>=0.0.7 in /usr/local/lib/python3.6/dist-packages (from yfinance->qiskit-aqua==0.8.1->qiskit) (0.0.9)\n",
            "Requirement already satisfied: joblib>=0.11 in /usr/local/lib/python3.6/dist-packages (from scikit-learn>=0.20.0->qiskit-aqua==0.8.1->qiskit) (0.17.0)\n",
            "Requirement already satisfied: more-itertools in /usr/local/lib/python3.6/dist-packages (from quandl->qiskit-aqua==0.8.1->qiskit) (8.6.0)\n",
            "Requirement already satisfied: inflection>=0.3.1 in /usr/local/lib/python3.6/dist-packages (from quandl->qiskit-aqua==0.8.1->qiskit) (0.5.1)\n",
            "Requirement already satisfied: pytz>=2017.2 in /usr/local/lib/python3.6/dist-packages (from pandas->qiskit-aqua==0.8.1->qiskit) (2018.9)\n",
            "Requirement already satisfied: cffi!=1.11.3,>=1.8 in /usr/local/lib/python3.6/dist-packages (from cryptography>=1.3->requests-ntlm>=1.1.0->qiskit-ibmq-provider==0.11.1->qiskit) (1.14.3)\n",
            "Requirement already satisfied: pycparser in /usr/local/lib/python3.6/dist-packages (from cffi!=1.11.3,>=1.8->cryptography>=1.3->requests-ntlm>=1.1.0->qiskit-ibmq-provider==0.11.1->qiskit) (2.20)\n"
          ],
          "name": "stdout"
        }
      ]
    },
    {
      "cell_type": "code",
      "metadata": {
        "id": "Njq4zvPMM9Xw"
      },
      "source": [
        "from qiskit.tools.jupyter import *\n",
        "from qiskit import IBMQ\n",
        "from qiskit import transpile, schedule as build_schedule\n",
        "from qiskit.pulse import Schedule, Play, Gaussian, DriveChannel,ShiftPhase, Drag\n",
        "from qiskit import QuantumRegister, ClassicalRegister, QuantumCircuit\n",
        "from qiskit.tools.visualization import plot_histogram"
      ],
      "execution_count": null,
      "outputs": []
    },
    {
      "cell_type": "code",
      "metadata": {
        "id": "37JAd-ybM9vR",
        "colab": {
          "base_uri": "https://localhost:8080/"
        },
        "outputId": "d40976bc-33c7-4f93-bcb2-631005a1efc3"
      },
      "source": [
        "\n",
        "IBMQ.save_account('24f1bb2782a6cfdd06501f5146b73ad546e8892fa55e1da503fb632e8400aee65f9bc6ff5f62eca98bb131ea7e71f8420edde7448ecdd1fac11b348161a517ae')\n",
        "IBMQ.load_account()\n",
        "provider = IBMQ.get_provider(hub='ibm-q', group='open', project='main')\n",
        "backend = provider.get_backend('ibmq_armonk')"
      ],
      "execution_count": null,
      "outputs": [
        {
          "output_type": "stream",
          "text": [
            "configrc.store_credentials:WARNING:2020-11-17 07:14:43,775: Credentials already present. Set overwrite=True to overwrite.\n",
            "/usr/local/lib/python3.6/dist-packages/qiskit/providers/ibmq/ibmqfactory.py:192: UserWarning: Timestamps in IBMQ backend properties, jobs, and job results are all now in local time instead of UTC.\n",
            "  warnings.warn('Timestamps in IBMQ backend properties, jobs, and job results '\n",
            "ibmqfactory.load_account:WARNING:2020-11-17 07:14:44,220: Credentials are already in use. The existing account in the session will be replaced.\n"
          ],
          "name": "stderr"
        }
      ]
    },
    {
      "cell_type": "code",
      "metadata": {
        "id": "itY8b2vfN1nA"
      },
      "source": [
        "backend_config = backend.configuration()\n",
        "assert backend_config.open_pulse, \"Backend doesn't support Pulse\""
      ],
      "execution_count": null,
      "outputs": []
    },
    {
      "cell_type": "code",
      "metadata": {
        "id": "Mxmvcu4cNj2H",
        "colab": {
          "base_uri": "https://localhost:8080/"
        },
        "outputId": "cf9e7828-365d-4802-f698-77ec58ae0d75"
      },
      "source": [
        "dt = backend_config.dt\n",
        "\n",
        "print(f\"Sampling time: {dt*1e9} ns\")"
      ],
      "execution_count": null,
      "outputs": [
        {
          "output_type": "stream",
          "text": [
            "Sampling time: 0.2222222222222222 ns\n"
          ],
          "name": "stdout"
        }
      ]
    },
    {
      "cell_type": "code",
      "metadata": {
        "id": "QbI_1YJbNzAs"
      },
      "source": [
        "backend_defaults = backend.defaults()"
      ],
      "execution_count": null,
      "outputs": []
    },
    {
      "cell_type": "code",
      "metadata": {
        "id": "-mmNJ4hBN4-_",
        "colab": {
          "base_uri": "https://localhost:8080/"
        },
        "outputId": "1b5fd2d4-7628-43e0-8a69-daeda6b43255"
      },
      "source": [
        "import numpy as np\n",
        "\n",
        "# unit conversion factors -> all backend properties returned in SI (Hz, sec, etc)\n",
        "GHz = 1.0e9 # Gigahertz\n",
        "MHz = 1.0e6 # Megahertz\n",
        "us = 1.0e-6 # Microseconds\n",
        "ns = 1.0e-9 # Nanoseconds\n",
        "\n",
        "# We will find the qubit frequency for the following qubit.\n",
        "qubit = 0\n",
        "\n",
        "# The sweep will be centered around the estimated qubit frequency.\n",
        "center_frequency_Hz = backend_defaults.qubit_freq_est[qubit]        # The default frequency is given in Hz\n",
        "                                                                    # warning: this will change in a future release\n",
        "print(f\"Qubit {qubit} has an estimated frequency of {center_frequency_Hz / GHz} GHz.\")\n",
        "scale_factor = 1e-14\n",
        "\n",
        "# We will sweep 40 MHz around the estimated frequency\n",
        "frequency_span_Hz = 40 * MHz\n",
        "# in steps of 1 MHz.\n",
        "frequency_step_Hz = 1 * MHz\n",
        "\n",
        "# We will sweep 20 MHz above and 20 MHz below the estimated frequency\n",
        "frequency_min = center_frequency_Hz - frequency_span_Hz / 2\n",
        "frequency_max = center_frequency_Hz + frequency_span_Hz / 2\n",
        "# Construct an np array of the frequencies for our experiment\n",
        "frequencies_GHz = np.arange(frequency_min / GHz, \n",
        "                            frequency_max / GHz, \n",
        "                            frequency_step_Hz / GHz)\n"
      ],
      "execution_count": null,
      "outputs": [
        {
          "output_type": "stream",
          "text": [
            "Qubit 0 has an estimated frequency of 4.974447567095812 GHz.\n"
          ],
          "name": "stdout"
        }
      ]
    },
    {
      "cell_type": "code",
      "metadata": {
        "id": "62X7w6M4OF0Q"
      },
      "source": [
        "# samples need to be multiples of 16\n",
        "def get_closest_multiple_of_16(num):\n",
        "    return int(num + 8 ) - (int(num + 8 ) % 16)"
      ],
      "execution_count": null,
      "outputs": []
    },
    {
      "cell_type": "code",
      "metadata": {
        "id": "uSmIuYbROIsY"
      },
      "source": [
        "from qiskit import pulse            # This is where we access all of our Pulse features!\n",
        "from qiskit.pulse import Play,Drag\n",
        "from qiskit.pulse import pulse_lib  # This Pulse module helps us build sampled pulses for common pulse shapes\n",
        "\n",
        "drive_sigma_us_base = 0.075\n",
        "drive_samples_us_base = drive_sigma_us_base*4\n",
        "drive_amp_base = 0.3\n",
        "# Drive pulse parameters (us = microseconds)\n",
        "#drive_sigma_us = 0.035                   # This determines the actual width of the gaussian\n",
        "#drive_samples_us = drive_sigma_us*4        # This is a truncating parameter, because gaussians don't have \n",
        "                                           # a natural finite length\n"
      ],
      "execution_count": null,
      "outputs": []
    },
    {
      "cell_type": "code",
      "metadata": {
        "id": "LaEerggZOKJB"
      },
      "source": [
        "# Find out which group of qubits need to be acquired with this qubit\n",
        "meas_map_idx = None\n",
        "for i, measure_group in enumerate(backend_config.meas_map):\n",
        "    if qubit in measure_group:\n",
        "        meas_map_idx = i\n",
        "        break\n",
        "assert meas_map_idx is not None, f\"Couldn't find qubit {qubit} in the meas_map!\""
      ],
      "execution_count": null,
      "outputs": []
    },
    {
      "cell_type": "code",
      "metadata": {
        "id": "ifzYtPKlOMwX"
      },
      "source": [
        "inst_sched_map = backend_defaults.instruction_schedule_map\n",
        "measure = inst_sched_map.get('measure', qubits=backend_config.meas_map[meas_map_idx])"
      ],
      "execution_count": null,
      "outputs": []
    },
    {
      "cell_type": "code",
      "metadata": {
        "id": "Bfpfi3rdOP_x"
      },
      "source": [
        "### Collect the necessary channels\n",
        "drive_chan = pulse.DriveChannel(qubit)\n",
        "meas_chan = pulse.MeasureChannel(qubit)\n",
        "acq_chan = pulse.AcquireChannel(qubit)"
      ],
      "execution_count": null,
      "outputs": []
    },
    {
      "cell_type": "code",
      "metadata": {
        "id": "IBRzxuYpOv1L"
      },
      "source": [
        "# This experiment uses these values from the previous experiment:\n",
        "    # `qubit`,\n",
        "    # `measure`, and\n",
        "    # `rough_qubit_frequency`.\n",
        "\n",
        "# Rabi experiment parameters\n",
        "num_rabi_points = 50\n",
        "\n",
        "# Drive amplitude values to iterate over: 50 amplitudes evenly spaced from 0 to 0.75\n",
        "drive_amp_min = 0\n",
        "drive_amp_max = 0.8\n",
        "drive_amps = np.linspace(drive_amp_min, drive_amp_max, num_rabi_points)"
      ],
      "execution_count": null,
      "outputs": []
    },
    {
      "cell_type": "code",
      "metadata": {
        "id": "f_ACzdQFH3Jg"
      },
      "source": [
        "test = []\n",
        "for i in range(20,85,3):\n",
        "  test.append(i/1000)\n",
        "samples = []\n",
        "def baseline_remove(values):\n",
        "  return np.array(values) - np.mean(values)"
      ],
      "execution_count": null,
      "outputs": []
    },
    {
      "cell_type": "code",
      "metadata": {
        "id": "ayRHZllz5X_u",
        "colab": {
          "base_uri": "https://localhost:8080/"
        },
        "outputId": "c6f4e1a1-8e93-4e8b-c392-46c3359e1309"
      },
      "source": [
        "print(test)"
      ],
      "execution_count": null,
      "outputs": [
        {
          "output_type": "stream",
          "text": [
            "[0.02, 0.023, 0.026, 0.029, 0.032, 0.035, 0.038, 0.041, 0.044, 0.047, 0.05, 0.053, 0.056, 0.059, 0.062, 0.065, 0.068, 0.071, 0.074, 0.077, 0.08, 0.083]\n"
          ],
          "name": "stdout"
        }
      ]
    },
    {
      "cell_type": "code",
      "metadata": {
        "id": "DooSFybgJFHw"
      },
      "source": [
        "from qiskit import assemble\n",
        "from qiskit.tools.monitor import job_monitor\n",
        "from scipy.optimize import curve_fit\n",
        "\n",
        "def fit_function(x_values, y_values, function, init_params):\n",
        "    fitparams, conv = curve_fit(function, x_values, y_values, init_params)\n",
        "    y_fit = function(x_values, *fitparams)\n",
        "    \n",
        "    return fitparams, y_fit"
      ],
      "execution_count": null,
      "outputs": []
    },
    {
      "cell_type": "code",
      "metadata": {
        "id": "rZMjmfgQQcVe",
        "colab": {
          "base_uri": "https://localhost:8080/"
        },
        "outputId": "f3c99a52-4d77-4798-b02c-7e6227a0ed28"
      },
      "source": [
        "# Build the Rabi experiments:\n",
        "#    A drive pulse at the qubit frequency, followed by a measurement,\n",
        "#    where we vary the drive amplitude each time.\n",
        "\n",
        "\n",
        "for i in test:\n",
        "  drive_sigma = get_closest_multiple_of_16(i * us /dt)       # The width of the gaussian in units of dt\n",
        "  drive_samples = get_closest_multiple_of_16(i * 4 * us /dt)   # The truncating parameter in units of dt\n",
        "  #drive_amp = drive_amp_base / 1.0 / i\n",
        "  \n",
        "  rabi_schedules = []\n",
        "  for drive_amp in drive_amps:\n",
        "      rabi_pulse = pulse_lib.gaussian(duration=drive_samples, amp=drive_amp,sigma=drive_sigma, name=f\"Rabi drive amplitude = {drive_amp}\")\n",
        "      this_schedule = pulse.Schedule(name=f\"Rabi drive amplitude = {drive_amp}\")\n",
        "      this_schedule += Play(rabi_pulse, drive_chan)\n",
        "      # Reuse the measure instruction from the frequency sweep experiment\n",
        "      this_schedule += measure << this_schedule.duration\n",
        "      rabi_schedules.append(this_schedule)\n",
        "  # Assemble the schedules into a Qobj\n",
        "  num_shots_per_point = 1024\n",
        "\n",
        "  rabi_experiment_program = assemble(rabi_schedules,backend=backend,meas_level=1,meas_return='avg',shots=num_shots_per_point,schedule_los=[{drive_chan: backend_defaults.qubit_freq_est[0]}] * num_rabi_points)\n",
        "  # print(job.job_id())\n",
        "  job = backend.run(rabi_experiment_program)\n",
        "  job_monitor(job)\n",
        "  # center data around 0\n",
        "\n",
        "  rabi_results = job.result(timeout=120)\n",
        "  rabi_values = []\n",
        "  for num_point in range(num_rabi_points):\n",
        "    # Get the results for `qubit` from the ith experiment\n",
        "    rabi_values.append(rabi_results.get_memory(num_point)[qubit]*scale_factor)\n",
        "  rabi_values = np.real(baseline_remove(rabi_values))\n",
        "  fit_params, y_fit = fit_function(drive_amps, rabi_values,lambda x, A, B, drive_period, phi: (A*np.cos(2*np.pi*x/drive_period - phi) + B),[3, 0, 1,0])\n",
        "  drive_period = fit_params[2] # get period of rabi oscillation\n",
        "  pi_amp = abs(drive_period / 2)\n",
        "  print([drive_sigma,drive_samples,pi_amp])\n",
        "  if(pi_amp <= 1):\n",
        "    samples.append([drive_sigma,drive_samples,pi_amp])\n"
      ],
      "execution_count": null,
      "outputs": [
        {
          "output_type": "stream",
          "text": [
            "Job Status: job has successfully run\n",
            "[96, 368, 0.8803911498821971]\n",
            "Job Status: job has successfully run\n",
            "[96, 416, 0.8606382909222071]\n",
            "Job Status: job has successfully run\n",
            "[112, 464, 0.8081646743846611]\n",
            "Job Status: job has successfully run\n",
            "[128, 528, 0.7568887033449109]\n",
            "Job Status: job has successfully run\n",
            "[144, 576, 0.6471987716779701]\n",
            "Job Status: job has successfully run\n",
            "[160, 624, 0.5977610131483283]\n",
            "Job Status: job has successfully run\n",
            "[176, 688, 0.5546944047931383]\n",
            "Job Status: job has successfully run\n",
            "[192, 736, 0.5105679225767973]\n",
            "Job Status: job has successfully run\n",
            "[192, 800, 0.4845290084156977]\n",
            "Job Status: job has successfully run\n",
            "[208, 848, 0.4414031032533915]\n",
            "Job Status: job has successfully run\n",
            "[224, 896, 0.4078682343922708]\n",
            "Job Status: job has successfully run\n",
            "[240, 960, 0.38273440403441344]\n",
            "Job Status: job has successfully run\n",
            "[256, 1008, 0.3625316551141775]\n",
            "Job Status: job has successfully run\n",
            "[272, 1056, 0.34861371438829275]\n",
            "Job Status: job has successfully run\n",
            "[272, 1120, 0.33682979033320104]\n",
            "Job Status: job has successfully run\n",
            "[288, 1168, 0.31914147696862355]\n",
            "Job Status: job has successfully run\n",
            "[304, 1232, 0.3039575365633026]\n",
            "Job Status: job has successfully run\n",
            "[320, 1280, 0.2879904952348716]\n",
            "Job Status: job has successfully run\n",
            "[336, 1328, 0.27753610473460066]\n",
            "Job Status: job has successfully run\n",
            "[352, 1392, 0.2617470749059488]\n",
            "Job Status: job has successfully run\n",
            "[368, 1440, 0.2521793696821504]\n",
            "Job Status: job has successfully run\n",
            "[368, 1488, 0.24731685337884374]\n"
          ],
          "name": "stdout"
        }
      ]
    },
    {
      "cell_type": "code",
      "metadata": {
        "id": "iv0aIJwWWFfn",
        "colab": {
          "base_uri": "https://localhost:8080/"
        },
        "outputId": "3179f078-c4c9-4a27-f232-af68a7ff3aa7"
      },
      "source": [
        "print(samples)"
      ],
      "execution_count": null,
      "outputs": [
        {
          "output_type": "stream",
          "text": [
            "[[96, 368, 0.8803911498821971], [96, 416, 0.8606382909222071], [112, 464, 0.8081646743846611], [128, 528, 0.7568887033449109], [144, 576, 0.6471987716779701], [160, 624, 0.5977610131483283], [176, 688, 0.5546944047931383], [192, 736, 0.5105679225767973], [192, 800, 0.4845290084156977], [208, 848, 0.4414031032533915], [224, 896, 0.4078682343922708], [240, 960, 0.38273440403441344], [256, 1008, 0.3625316551141775], [272, 1056, 0.34861371438829275], [272, 1120, 0.33682979033320104], [288, 1168, 0.31914147696862355], [304, 1232, 0.3039575365633026], [320, 1280, 0.2879904952348716], [336, 1328, 0.27753610473460066], [352, 1392, 0.2617470749059488], [368, 1440, 0.2521793696821504], [368, 1488, 0.24731685337884374]]\n"
          ],
          "name": "stdout"
        }
      ]
    },
    {
      "cell_type": "code",
      "metadata": {
        "id": "s24aI5ZWdNJf"
      },
      "source": [
        "import math"
      ],
      "execution_count": null,
      "outputs": []
    },
    {
      "cell_type": "code",
      "metadata": {
        "id": "4MCRo2v1MIww",
        "colab": {
          "base_uri": "https://localhost:8080/"
        },
        "outputId": "5486fb87-3cc0-4b05-eadd-1ea0634f893f"
      },
      "source": [
        "p = 0\n",
        "l = np.pi\n",
        "n = \"H\"\n",
        "h_result = []\n",
        "x_result = []\n",
        "# Ground state\n",
        "gnd_schedule = pulse.Schedule(name=\"ground state\")\n",
        "gnd_schedule += measure\n",
        "for i in samples:\n",
        "  #pi_pulse = pulse_lib.gaussian(duration=i[1],amp=i[2],sigma=i[0],name='pi_pulse')\n",
        "  #Excited state\n",
        "  exc_schedule = pulse.Schedule(name=\"excited state\")\n",
        "  exc_schedule += Play(Gaussian(duration=i[1], amp=i[2]+0j, sigma=i[0]), drive_chan)\n",
        "  exc_schedule += measure << exc_schedule.duration\n",
        "  #run\n",
        "  num_shots = 1024\n",
        "  gnd_exc_program = assemble([gnd_schedule,exc_schedule],backend=backend,meas_level=1,meas_return='single',shots=num_shots)\n",
        "  job = backend.run(gnd_exc_program)\n",
        "  job_monitor(job)\n",
        "\n",
        "  gnd_exc_results = job.result(timeout=120)\n",
        "  gnd_results = gnd_exc_results.get_memory(0)[:, qubit]*scale_factor\n",
        "  exc_results = gnd_exc_results.get_memory(1)[:, qubit]*scale_factor\n",
        "  mean_gnd = np.mean(gnd_results) # takes mean of both real and imaginary parts\n",
        "  mean_exc = np.mean(exc_results)\n",
        "\n",
        "  def classify(point: complex):\n",
        "    \"\"\"Classify the given state as |0> or |1>.\"\"\"\n",
        "    def distance(a, b):\n",
        "        return math.sqrt((np.real(a) - np.real(b))**2 + (np.imag(a) - np.imag(b))**2)\n",
        "    return int(distance(point, mean_exc) < distance(point, mean_gnd))\n",
        "  def get_U2_sched(phi,lam,name,dura_i,amp_i,sigma_i):\n",
        "    sched_circuit = pulse.Schedule(name=name)\n",
        "    sched_circuit |= ShiftPhase(-lam, drive_chan) \n",
        "    sched_circuit |=  Play(Drag(duration=dura_i, amp=amp_i/2, sigma=sigma_i, beta=-3.503413439291586),drive_chan)\n",
        "    sched_circuit += ShiftPhase(-phi, drive_chan)  \n",
        "    sched_circuit += measure << sched_circuit.duration\n",
        "    return sched_circuit\n",
        "  print(i)\n",
        "  h_res = []\n",
        "  x_res = []\n",
        "  for j in range(0,10):\n",
        "    # H gate repeat\n",
        "    sched_circuit = get_U2_sched(p,l,n, i[1],i[2],i[0])\n",
        "    num_shots = 1024\n",
        "    h_exc_program = assemble([gnd_schedule,sched_circuit],backend=backend,meas_level=1,meas_return='single',shots=num_shots)\n",
        "    job = backend.run(h_exc_program)\n",
        "    job_monitor(job)\n",
        "    h_exc_results = job.result(timeout=120)\n",
        "    h_results = h_exc_results.get_memory(1)[:, qubit]*scale_factor\n",
        "    res = [x for x in [classify(complex(n.real,n.imag)) for n in h_results]]\n",
        "    h_res.append([res.count(1),res.count(0)])\n",
        "    #print([res.count(1)])\n",
        "\n",
        "    # X gate repeat\n",
        "    sched_circuit = pulse.Schedule(name=\"X state\")\n",
        "    sched_circuit |=  Play(Gaussian(duration=i[1], amp=i[2], sigma=i[0]),drive_chan)\n",
        "    sched_circuit += measure << sched_circuit.duration\n",
        "    num_shots = 1024\n",
        "\n",
        "    x_exc_program = assemble([gnd_schedule,sched_circuit],backend=backend,meas_level=1,meas_return='single',shots=num_shots)\n",
        "    job = backend.run(x_exc_program)\n",
        "    job_monitor(job)\n",
        "    x_exc_results = job.result(timeout=120)\n",
        "    x_results = x_exc_results.get_memory(1)[:, qubit]*scale_factor\n",
        "    res = [x for x in [classify(complex(n.real,n.imag)) for n in x_results]]\n",
        "    x_res.append([res.count(1),res.count(0)])\n",
        "    #print([res.count(1)])\n",
        "  h_result.append(h_res)\n",
        "  x_result.append(x_res)"
      ],
      "execution_count": null,
      "outputs": [
        {
          "output_type": "stream",
          "text": [
            "Job Status: job has successfully run\n",
            "[96, 368, 0.8803911498821971]\n",
            "Job Status: job has successfully run\n",
            "Job Status: job has successfully run\n",
            "Job Status: job has successfully run\n",
            "Job Status: job has successfully run\n",
            "Job Status: job has successfully run\n",
            "Job Status: job has successfully run\n",
            "Job Status: job has successfully run\n",
            "Job Status: job has successfully run\n",
            "Job Status: job has successfully run\n",
            "Job Status: job has successfully run\n",
            "Job Status: job has successfully run\n",
            "Job Status: job has successfully run\n",
            "Job Status: job has successfully run\n",
            "Job Status: job has successfully run\n",
            "Job Status: job has successfully run\n",
            "Job Status: job has successfully run\n",
            "Job Status: job has successfully run\n",
            "Job Status: job has successfully run\n",
            "Job Status: job has successfully run\n",
            "Job Status: job has successfully run\n",
            "Job Status: job has successfully run\n",
            "[96, 416, 0.8606382909222071]\n",
            "Job Status: job has successfully run\n",
            "Job Status: job has successfully run\n",
            "Job Status: job has successfully run\n",
            "Job Status: job has successfully run\n",
            "Job Status: job has successfully run\n",
            "Job Status: job has successfully run\n",
            "Job Status: job has successfully run\n",
            "Job Status: job has successfully run\n",
            "Job Status: job has successfully run\n",
            "Job Status: job has successfully run\n",
            "Job Status: job has successfully run\n",
            "Job Status: job has successfully run\n",
            "Job Status: job has successfully run\n",
            "Job Status: job has successfully run\n",
            "Job Status: job has successfully run\n",
            "Job Status: job has successfully run\n",
            "Job Status: job has successfully run\n",
            "Job Status: job has successfully run\n",
            "Job Status: job has successfully run\n",
            "Job Status: job has successfully run\n",
            "Job Status: job has successfully run\n",
            "[112, 464, 0.8081646743846611]\n",
            "Job Status: job has successfully run\n",
            "Job Status: job has successfully run\n",
            "Job Status: job has successfully run\n",
            "Job Status: job has successfully run\n",
            "Job Status: job has successfully run\n",
            "Job Status: job has successfully run\n",
            "Job Status: job has successfully run\n",
            "Job Status: job has successfully run\n",
            "Job Status: job has successfully run\n",
            "Job Status: job has successfully run\n",
            "Job Status: job has successfully run\n",
            "Job Status: job has successfully run\n",
            "Job Status: job has successfully run\n",
            "Job Status: job has successfully run\n",
            "Job Status: job has successfully run\n",
            "Job Status: job has successfully run\n",
            "Job Status: job has successfully run\n",
            "Job Status: job has successfully run\n",
            "Job Status: job has successfully run\n",
            "Job Status: job has successfully run\n",
            "Job Status: job has successfully run\n",
            "[128, 528, 0.7568887033449109]\n",
            "Job Status: job has successfully run\n",
            "Job Status: job has successfully run\n",
            "Job Status: job has successfully run\n",
            "Job Status: job has successfully run\n",
            "Job Status: job has successfully run\n",
            "Job Status: job has successfully run\n",
            "Job Status: job has successfully run\n",
            "Job Status: job has successfully run\n",
            "Job Status: job has successfully run\n",
            "Job Status: job has successfully run\n",
            "Job Status: job has successfully run\n",
            "Job Status: job has successfully run\n",
            "Job Status: job has successfully run\n",
            "Job Status: job has successfully run\n",
            "Job Status: job has successfully run\n",
            "Job Status: job has successfully run\n",
            "Job Status: job has successfully run\n",
            "Job Status: job has successfully run\n",
            "Job Status: job has successfully run\n",
            "Job Status: job has successfully run\n",
            "Job Status: job has successfully run\n",
            "[144, 576, 0.6471987716779701]\n",
            "Job Status: job has successfully run\n",
            "Job Status: job has successfully run\n",
            "Job Status: job has successfully run\n",
            "Job Status: job has successfully run\n",
            "Job Status: job has successfully run\n",
            "Job Status: job has successfully run\n",
            "Job Status: job has successfully run\n",
            "Job Status: job has successfully run\n",
            "Job Status: job has successfully run\n",
            "Job Status: job has successfully run\n",
            "Job Status: job has successfully run\n",
            "Job Status: job has successfully run\n",
            "Job Status: job has successfully run\n",
            "Job Status: job has successfully run\n",
            "Job Status: job has successfully run\n",
            "Job Status: job has successfully run\n",
            "Job Status: job has successfully run\n",
            "Job Status: job has successfully run\n",
            "Job Status: job has successfully run\n",
            "Job Status: job has successfully run\n",
            "Job Status: job has successfully run\n",
            "[160, 624, 0.5977610131483283]\n",
            "Job Status: job has successfully run\n",
            "Job Status: job has successfully run\n",
            "Job Status: job has successfully run\n",
            "Job Status: job has successfully run\n",
            "Job Status: job has successfully run\n",
            "Job Status: job has successfully run\n",
            "Job Status: job has successfully run\n",
            "Job Status: job has successfully run\n",
            "Job Status: job has successfully run\n",
            "Job Status: job has successfully run\n",
            "Job Status: job has successfully run\n",
            "Job Status: job has successfully run\n",
            "Job Status: job has successfully run\n",
            "Job Status: job has successfully run\n",
            "Job Status: job has successfully run\n",
            "Job Status: job has successfully run\n",
            "Job Status: job has successfully run\n",
            "Job Status: job has successfully run\n",
            "Job Status: job has successfully run\n",
            "Job Status: job has successfully run\n",
            "Job Status: job has successfully run\n",
            "[176, 688, 0.5546944047931383]\n",
            "Job Status: job has successfully run\n",
            "Job Status: job has successfully run\n",
            "Job Status: job has successfully run\n",
            "Job Status: job has successfully run\n",
            "Job Status: job has successfully run\n",
            "Job Status: job has successfully run\n",
            "Job Status: job has successfully run\n",
            "Job Status: job has successfully run\n",
            "Job Status: job has successfully run\n",
            "Job Status: job has successfully run\n",
            "Job Status: job has successfully run\n",
            "Job Status: job has successfully run\n",
            "Job Status: job has successfully run\n",
            "Job Status: job has successfully run\n",
            "Job Status: job has successfully run\n",
            "Job Status: job has successfully run\n",
            "Job Status: job has successfully run\n",
            "Job Status: job has successfully run\n",
            "Job Status: job has successfully run\n",
            "Job Status: job has successfully run\n",
            "Job Status: job has successfully run\n",
            "[192, 736, 0.5105679225767973]\n",
            "Job Status: job has successfully run\n",
            "Job Status: job has successfully run\n",
            "Job Status: job has successfully run\n",
            "Job Status: job has successfully run\n",
            "Job Status: job has successfully run\n",
            "Job Status: job has successfully run\n",
            "Job Status: job has successfully run\n",
            "Job Status: job has successfully run\n",
            "Job Status: job has successfully run\n",
            "Job Status: job has successfully run\n",
            "Job Status: job has successfully run\n",
            "Job Status: job has successfully run\n",
            "Job Status: job has successfully run\n",
            "Job Status: job has successfully run\n",
            "Job Status: job has successfully run\n",
            "Job Status: job has successfully run\n",
            "Job Status: job has successfully run\n",
            "Job Status: job has successfully run\n",
            "Job Status: job has successfully run\n",
            "Job Status: job has successfully run\n",
            "Job Status: job has successfully run\n",
            "[192, 800, 0.4845290084156977]\n",
            "Job Status: job has successfully run\n",
            "Job Status: job has successfully run\n",
            "Job Status: job has successfully run\n",
            "Job Status: job has successfully run\n",
            "Job Status: job has successfully run\n",
            "Job Status: job has successfully run\n",
            "Job Status: job has successfully run\n",
            "Job Status: job has successfully run\n",
            "Job Status: job has successfully run\n",
            "Job Status: job has successfully run\n",
            "Job Status: job has successfully run\n",
            "Job Status: job has successfully run\n",
            "Job Status: job has successfully run\n",
            "Job Status: job has successfully run\n",
            "Job Status: job has successfully run\n",
            "Job Status: job has successfully run\n",
            "Job Status: job has successfully run\n",
            "Job Status: job has successfully run\n",
            "Job Status: job has successfully run\n",
            "Job Status: job has successfully run\n",
            "Job Status: job has successfully run\n",
            "[208, 848, 0.4414031032533915]\n",
            "Job Status: job has successfully run\n",
            "Job Status: job has successfully run\n",
            "Job Status: job has successfully run\n",
            "Job Status: job has successfully run\n",
            "Job Status: job has successfully run\n",
            "Job Status: job has successfully run\n",
            "Job Status: job has successfully run\n",
            "Job Status: job has successfully run\n",
            "Job Status: job has successfully run\n",
            "Job Status: job has successfully run\n",
            "Job Status: job has successfully run\n",
            "Job Status: job has successfully run\n",
            "Job Status: job has successfully run\n",
            "Job Status: job has successfully run\n",
            "Job Status: job has successfully run\n",
            "Job Status: job has successfully run\n",
            "Job Status: job has successfully run\n",
            "Job Status: job has successfully run\n",
            "Job Status: job has successfully run\n",
            "Job Status: job has successfully run\n",
            "Job Status: job has successfully run\n",
            "[224, 896, 0.4078682343922708]\n",
            "Job Status: job has successfully run\n",
            "Job Status: job has successfully run\n",
            "Job Status: job has successfully run\n",
            "Job Status: job has successfully run\n",
            "Job Status: job has successfully run\n",
            "Job Status: job has successfully run\n",
            "Job Status: job has successfully run\n",
            "Job Status: job has successfully run\n",
            "Job Status: job has successfully run\n",
            "Job Status: job has successfully run\n",
            "Job Status: job has successfully run\n",
            "Job Status: job has successfully run\n",
            "Job Status: job has successfully run\n",
            "Job Status: job has successfully run\n",
            "Job Status: job has successfully run\n",
            "Job Status: job has successfully run\n",
            "Job Status: job has successfully run\n",
            "Job Status: job has successfully run\n",
            "Job Status: job has successfully run\n",
            "Job Status: job has successfully run\n",
            "Job Status: job has successfully run\n",
            "[240, 960, 0.38273440403441344]\n",
            "Job Status: job has successfully run\n",
            "Job Status: job has successfully run\n",
            "Job Status: job has successfully run\n",
            "Job Status: job has successfully run\n",
            "Job Status: job has successfully run\n",
            "Job Status: job has successfully run\n",
            "Job Status: job has successfully run\n",
            "Job Status: job has successfully run\n",
            "Job Status: job has successfully run\n",
            "Job Status: job has successfully run\n",
            "Job Status: job has successfully run\n",
            "Job Status: job has successfully run\n",
            "Job Status: job has successfully run\n",
            "Job Status: job has successfully run\n",
            "Job Status: job has successfully run\n",
            "Job Status: job has successfully run\n",
            "Job Status: job has successfully run\n",
            "Job Status: job has successfully run\n",
            "Job Status: job has successfully run\n",
            "Job Status: job has successfully run\n",
            "Job Status: job has successfully run\n",
            "[256, 1008, 0.3625316551141775]\n",
            "Job Status: job has successfully run\n",
            "Job Status: job has successfully run\n",
            "Job Status: job has successfully run\n",
            "Job Status: job has successfully run\n",
            "Job Status: job has successfully run\n",
            "Job Status: job has successfully run\n",
            "Job Status: job has successfully run\n",
            "Job Status: job has successfully run\n",
            "Job Status: job has successfully run\n",
            "Job Status: job has successfully run\n",
            "Job Status: job has successfully run\n",
            "Job Status: job has successfully run\n",
            "Job Status: job has successfully run\n",
            "Job Status: job has successfully run\n",
            "Job Status: job has successfully run\n",
            "Job Status: job has successfully run\n",
            "Job Status: job has successfully run\n",
            "Job Status: job has successfully run\n",
            "Job Status: job has successfully run\n",
            "Job Status: job has successfully run\n",
            "Job Status: job has successfully run\n",
            "[272, 1056, 0.34861371438829275]\n",
            "Job Status: job has successfully run\n",
            "Job Status: job has successfully run\n",
            "Job Status: job has successfully run\n",
            "Job Status: job has successfully run\n",
            "Job Status: job has successfully run\n",
            "Job Status: job has successfully run\n",
            "Job Status: job has successfully run\n",
            "Job Status: job has successfully run\n",
            "Job Status: job has successfully run\n",
            "Job Status: job has successfully run\n",
            "Job Status: job has successfully run\n",
            "Job Status: job has successfully run\n",
            "Job Status: job has successfully run\n",
            "Job Status: job has successfully run\n",
            "Job Status: job has successfully run\n",
            "Job Status: job has successfully run\n",
            "Job Status: job has successfully run\n",
            "Job Status: job has successfully run\n",
            "Job Status: job has successfully run\n",
            "Job Status: job has successfully run\n",
            "Job Status: job has successfully run\n",
            "[272, 1120, 0.33682979033320104]\n",
            "Job Status: job has successfully run\n",
            "Job Status: job has successfully run\n",
            "Job Status: job has successfully run\n",
            "Job Status: job has successfully run\n",
            "Job Status: job has successfully run\n",
            "Job Status: job has successfully run\n",
            "Job Status: job has successfully run\n",
            "Job Status: job has successfully run\n",
            "Job Status: job has successfully run\n",
            "Job Status: job has successfully run\n",
            "Job Status: job has successfully run\n",
            "Job Status: job has successfully run\n",
            "Job Status: job has successfully run\n",
            "Job Status: job has successfully run\n",
            "Job Status: job has successfully run\n",
            "Job Status: job has successfully run\n",
            "Job Status: job has successfully run\n",
            "Job Status: job has successfully run\n",
            "Job Status: job has successfully run\n",
            "Job Status: job has successfully run\n",
            "Job Status: job has successfully run\n",
            "[288, 1168, 0.31914147696862355]\n",
            "Job Status: job has successfully run\n",
            "Job Status: job has successfully run\n",
            "Job Status: job has successfully run\n",
            "Job Status: job has successfully run\n",
            "Job Status: job has successfully run\n",
            "Job Status: job has successfully run\n",
            "Job Status: job has successfully run\n",
            "Job Status: job has successfully run\n",
            "Job Status: job has successfully run\n",
            "Job Status: job has successfully run\n",
            "Job Status: job has successfully run\n",
            "Job Status: job has successfully run\n",
            "Job Status: job has successfully run\n",
            "Job Status: job has successfully run\n",
            "Job Status: job has successfully run\n",
            "Job Status: job has successfully run\n",
            "Job Status: job has successfully run\n",
            "Job Status: job has successfully run\n",
            "Job Status: job has successfully run\n",
            "Job Status: job has successfully run\n",
            "Job Status: job has successfully run\n",
            "[304, 1232, 0.3039575365633026]\n",
            "Job Status: job has successfully run\n",
            "Job Status: job has successfully run\n",
            "Job Status: job has successfully run\n",
            "Job Status: job has successfully run\n",
            "Job Status: job has successfully run\n",
            "Job Status: job has successfully run\n",
            "Job Status: job has successfully run\n",
            "Job Status: job has successfully run\n",
            "Job Status: job has successfully run\n",
            "Job Status: job has successfully run\n",
            "Job Status: job has successfully run\n",
            "Job Status: job has successfully run\n",
            "Job Status: job has successfully run\n",
            "Job Status: job has successfully run\n",
            "Job Status: job has successfully run\n",
            "Job Status: job has successfully run\n",
            "Job Status: job has successfully run\n",
            "Job Status: job has successfully run\n",
            "Job Status: job has successfully run\n",
            "Job Status: job has successfully run\n",
            "Job Status: job has successfully run\n",
            "[320, 1280, 0.2879904952348716]\n",
            "Job Status: job has successfully run\n",
            "Job Status: job has successfully run\n",
            "Job Status: job has successfully run\n",
            "Job Status: job has successfully run\n",
            "Job Status: job has successfully run\n",
            "Job Status: job has successfully run\n",
            "Job Status: job has successfully run\n",
            "Job Status: job has successfully run\n",
            "Job Status: job has successfully run\n",
            "Job Status: job has successfully run\n",
            "Job Status: job has successfully run\n",
            "Job Status: job has successfully run\n",
            "Job Status: job has successfully run\n",
            "Job Status: job has successfully run\n",
            "Job Status: job has successfully run\n",
            "Job Status: job has successfully run\n",
            "Job Status: job has successfully run\n",
            "Job Status: job has successfully run\n",
            "Job Status: job has successfully run\n",
            "Job Status: job has successfully run\n",
            "Job Status: job has successfully run\n",
            "[336, 1328, 0.27753610473460066]\n",
            "Job Status: job has successfully run\n",
            "Job Status: job has successfully run\n",
            "Job Status: job has successfully run\n",
            "Job Status: job has successfully run\n",
            "Job Status: job has successfully run\n",
            "Job Status: job has successfully run\n",
            "Job Status: job has successfully run\n",
            "Job Status: job has successfully run\n",
            "Job Status: job has successfully run\n",
            "Job Status: job has successfully run\n",
            "Job Status: job has successfully run\n",
            "Job Status: job has successfully run\n",
            "Job Status: job has successfully run\n",
            "Job Status: job has successfully run\n",
            "Job Status: job has successfully run\n",
            "Job Status: job has successfully run\n",
            "Job Status: job has successfully run\n",
            "Job Status: job has successfully run\n",
            "Job Status: job has successfully run\n",
            "Job Status: job has successfully run\n",
            "Job Status: job has successfully run\n",
            "[352, 1392, 0.2617470749059488]\n",
            "Job Status: job has successfully run\n",
            "Job Status: job has successfully run\n",
            "Job Status: job has successfully run\n",
            "Job Status: job has successfully run\n",
            "Job Status: job has successfully run\n",
            "Job Status: job has successfully run\n",
            "Job Status: job has successfully run\n",
            "Job Status: job has successfully run\n",
            "Job Status: job has successfully run\n",
            "Job Status: job has successfully run\n",
            "Job Status: job has successfully run\n",
            "Job Status: job has successfully run\n",
            "Job Status: job has successfully run\n",
            "Job Status: job has successfully run\n",
            "Job Status: job has successfully run\n",
            "Job Status: job has successfully run\n",
            "Job Status: job has successfully run\n",
            "Job Status: job has successfully run\n",
            "Job Status: job has successfully run\n",
            "Job Status: job has successfully run\n",
            "Job Status: job has successfully run\n",
            "[368, 1440, 0.2521793696821504]\n",
            "Job Status: job has successfully run\n",
            "Job Status: job has successfully run\n",
            "Job Status: job has successfully run\n",
            "Job Status: job has successfully run\n",
            "Job Status: job has successfully run\n",
            "Job Status: job has successfully run\n",
            "Job Status: job has successfully run\n",
            "Job Status: job has successfully run\n",
            "Job Status: job has successfully run\n",
            "Job Status: job has successfully run\n",
            "Job Status: job has successfully run\n",
            "Job Status: job has successfully run\n",
            "Job Status: job has successfully run\n",
            "Job Status: job has successfully run\n",
            "Job Status: job has successfully run\n",
            "Job Status: job has successfully run\n",
            "Job Status: job has successfully run\n",
            "Job Status: job has successfully run\n",
            "Job Status: job has successfully run\n",
            "Job Status: job has successfully run\n",
            "Job Status: job has successfully run\n",
            "[368, 1488, 0.24731685337884374]\n",
            "Job Status: job has successfully run\n",
            "Job Status: job has successfully run\n",
            "Job Status: job has successfully run\n",
            "Job Status: job has successfully run\n",
            "Job Status: job has successfully run\n",
            "Job Status: job has successfully run\n",
            "Job Status: job has successfully run\n",
            "Job Status: job has successfully run\n",
            "Job Status: job has successfully run\n",
            "Job Status: job has successfully run\n",
            "Job Status: job has successfully run\n",
            "Job Status: job has successfully run\n",
            "Job Status: job has successfully run\n",
            "Job Status: job has successfully run\n",
            "Job Status: job has successfully run\n",
            "Job Status: job has successfully run\n",
            "Job Status: job has successfully run\n",
            "Job Status: job has successfully run\n",
            "Job Status: job has successfully run\n",
            "Job Status: job has successfully run\n"
          ],
          "name": "stdout"
        }
      ]
    },
    {
      "cell_type": "code",
      "metadata": {
        "id": "Z4VG6GDZohnA",
        "colab": {
          "base_uri": "https://localhost:8080/"
        },
        "outputId": "b3ae32fd-53e5-41d6-d086-6f67b576482c"
      },
      "source": [
        "h_avg_1 = []\n",
        "for i in h_result:\n",
        "  sum = 0\n",
        "  for v in i:\n",
        "    sum+=v[0]\n",
        "  h_avg_1.append(sum/len(i))\n",
        "print(h_avg_1)"
      ],
      "execution_count": null,
      "outputs": [
        {
          "output_type": "stream",
          "text": [
            "[363.9, 427.9, 452.8, 514.4, 449.3, 431.7, 470.0, 445.3, 466.3, 448.9, 448.5, 441.7, 423.6, 507.0, 458.1, 451.1, 467.6, 528.0, 462.0, 443.5, 457.3, 461.2]\n"
          ],
          "name": "stdout"
        }
      ]
    },
    {
      "cell_type": "code",
      "metadata": {
        "id": "564LU0DvsiFN",
        "colab": {
          "base_uri": "https://localhost:8080/"
        },
        "outputId": "28274ff7-1897-4f32-8d20-b1c00b93e073"
      },
      "source": [
        "x_avg_1 = []\n",
        "for i in x_result:\n",
        "  sum = 0\n",
        "  for v in i:\n",
        "    sum+=v[0]\n",
        "  x_avg_1.append(sum/len(i))\n",
        "print(x_avg_1)"
      ],
      "execution_count": null,
      "outputs": [
        {
          "output_type": "stream",
          "text": [
            "[840.2, 911.2, 934.4, 958.2, 934.4, 911.0, 954.9, 946.2, 926.3, 950.6, 946.2, 945.0, 935.2, 949.9, 953.8, 954.1, 960.5, 960.0, 957.7, 946.1, 944.1, 947.5]\n"
          ],
          "name": "stdout"
        }
      ]
    },
    {
      "cell_type": "code",
      "metadata": {
        "id": "VAAb3vAW4bg_"
      },
      "source": [
        "import numpy as np\n",
        "import matplotlib.pyplot as plt\n"
      ],
      "execution_count": null,
      "outputs": []
    },
    {
      "cell_type": "code",
      "metadata": {
        "id": "-JtE2U2VMP5m"
      },
      "source": [
        "\n",
        "plt.plot(test, h_avg_1)\n",
        "plt.axhline(512, color='r')"
      ],
      "execution_count": null,
      "outputs": []
    },
    {
      "cell_type": "code",
      "metadata": {
        "id": "NNlq0WvP7L87",
        "colab": {
          "base_uri": "https://localhost:8080/",
          "height": 282
        },
        "outputId": "0af345d4-9123-45f7-93bb-4e798217692b"
      },
      "source": [
        "plt.plot(test, x_avg_1)\n",
        "plt.axhline(1024, color='r')"
      ],
      "execution_count": null,
      "outputs": [
        {
          "output_type": "execute_result",
          "data": {
            "text/plain": [
              "<matplotlib.lines.Line2D at 0x7f7b3edb71d0>"
            ]
          },
          "metadata": {
            "tags": []
          },
          "execution_count": 178
        },
        {
          "output_type": "display_data",
          "data": {
            "image/png": "[encoded data removed]",
            "text/plain": [
              "<Figure size 432x288 with 1 Axes>"
            ]
          },
          "metadata": {
            "tags": [],
            "needs_background": "light"
          }
        }
      ]
    },
    {
      "cell_type": "code",
      "metadata": {
        "id": "ZdA4Kg7y6WGN"
      },
      "source": [
        ""
      ],
      "execution_count": null,
      "outputs": []
    },
    {
      "cell_type": "code",
      "metadata": {
        "id": "o_zjrMGc531a"
      },
      "source": [
        ""
      ],
      "execution_count": null,
      "outputs": []
    },
    {
      "cell_type": "code",
      "metadata": {
        "id": "cnS59Opu6Ugx"
      },
      "source": [
        ""
      ],
      "execution_count": null,
      "outputs": []
    },
    {
      "cell_type": "code",
      "metadata": {
        "id": "06SYWBxm3_og"
      },
      "source": [
        ""
      ],
      "execution_count": null,
      "outputs": []
    },
    {
      "cell_type": "code",
      "metadata": {
        "id": "6gCsFOMet9aA"
      },
      "source": [
        "#baseline\n",
        "from qiskit import QuantumRegister, ClassicalRegister, QuantumCircuit\n",
        "from qiskit import BasicAer, execute\n",
        "from qiskit.tools.visualization import plot_histogram\n"
      ],
      "execution_count": null,
      "outputs": []
    },
    {
      "cell_type": "code",
      "metadata": {
        "id": "76XdL2urCdGG",
        "colab": {
          "base_uri": "https://localhost:8080/",
          "height": 93
        },
        "outputId": "e2053bc6-58d2-45d1-c0a8-59a4dc1382e9"
      },
      "source": [
        "# Build the phase shift circuit\n",
        "h_qc = QuantumCircuit(1,1)\n",
        "h_qc.h(0)\n",
        "h_qc.measure(0,0)\n",
        "h_qc.draw()"
      ],
      "execution_count": null,
      "outputs": [
        {
          "output_type": "execute_result",
          "data": {
            "text/html": [
              "<pre style=\"word-wrap: normal;white-space: pre;background: #fff0;line-height: 1.1;font-family: &quot;Courier New&quot;,Courier,monospace\">     ┌───┐┌─┐\n",
              "q_0: ┤ H ├┤M├\n",
              "     └───┘└╥┘\n",
              "c: 1/══════╩═\n",
              "           0 </pre>"
            ],
            "text/plain": [
              "     ┌───┐┌─┐\n",
              "q_0: ┤ H ├┤M├\n",
              "     └───┘└╥┘\n",
              "c: 1/══════╩═\n",
              "           0 "
            ]
          },
          "metadata": {
            "tags": []
          },
          "execution_count": 175
        }
      ]
    },
    {
      "cell_type": "code",
      "metadata": {
        "id": "Cq5Eo5LNt9l3"
      },
      "source": [
        "\n",
        "# Build the phase shift circuit\n",
        "h_qc = QuantumCircuit(1,1)\n",
        "h_qc.h(0)\n",
        "h_qc.measure(0,0)\n",
        "hsum = 0\n",
        "for i in range(0,10):\n",
        "  job = execute(h_qc, backend, shots=1024)  # shots default = 1024\n",
        "  hresult = job.result()\n",
        "  hsum += hresult.get_counts().get('1')\n",
        "\n",
        "print(sum/10)"
      ],
      "execution_count": null,
      "outputs": []
    },
    {
      "cell_type": "code",
      "metadata": {
        "id": "EHTeX8zyCkP9",
        "colab": {
          "base_uri": "https://localhost:8080/",
          "height": 93
        },
        "outputId": "b7b52f91-e850-475a-c253-cc9c69dbd5ef"
      },
      "source": [
        "# Build the phase shift circuit\n",
        "x_qc = QuantumCircuit(1,1)\n",
        "x_qc.x(0)\n",
        "x_qc.measure(0,0)\n",
        "x_qc.draw()"
      ],
      "execution_count": null,
      "outputs": [
        {
          "output_type": "execute_result",
          "data": {
            "text/html": [
              "<pre style=\"word-wrap: normal;white-space: pre;background: #fff0;line-height: 1.1;font-family: &quot;Courier New&quot;,Courier,monospace\">     ┌───┐┌─┐\n",
              "q_0: ┤ X ├┤M├\n",
              "     └───┘└╥┘\n",
              "c: 1/══════╩═\n",
              "           0 </pre>"
            ],
            "text/plain": [
              "     ┌───┐┌─┐\n",
              "q_0: ┤ X ├┤M├\n",
              "     └───┘└╥┘\n",
              "c: 1/══════╩═\n",
              "           0 "
            ]
          },
          "metadata": {
            "tags": []
          },
          "execution_count": 176
        }
      ]
    },
    {
      "cell_type": "code",
      "metadata": {
        "id": "bDxKdfNlt9pT"
      },
      "source": [
        "xsum = 0\n",
        "for i in range(0,10):\n",
        "  job = execute(x_qc, backend, shots=1024)  # shots default = 1024\n",
        "  xresult = job.result()\n",
        "  xsum += xresult.get_counts().get('1')\n"
      ],
      "execution_count": null,
      "outputs": []
    },
    {
      "cell_type": "code",
      "metadata": {
        "id": "IT9XtaD5A5Wx"
      },
      "source": [
        ""
      ],
      "execution_count": null,
      "outputs": []
    },
    {
      "cell_type": "code",
      "metadata": {
        "id": "cvOxct8It9wh"
      },
      "source": [
        "amps = []\n",
        "for i in samples:\n",
        "  amps.append(i[2])"
      ],
      "execution_count": null,
      "outputs": []
    },
    {
      "cell_type": "code",
      "metadata": {
        "id": "xVVj4slLt90J",
        "colab": {
          "base_uri": "https://localhost:8080/"
        },
        "outputId": "fc50ec1c-ffd8-4e98-a291-7528abb5a731"
      },
      "source": [
        "print(amps)"
      ],
      "execution_count": null,
      "outputs": [
        {
          "output_type": "stream",
          "text": [
            "[0.8803911498821971, 0.8606382909222071, 0.8081646743846611, 0.7568887033449109, 0.6471987716779701, 0.5977610131483283, 0.5546944047931383, 0.5105679225767973, 0.4845290084156977, 0.4414031032533915, 0.4078682343922708, 0.38273440403441344, 0.3625316551141775, 0.34861371438829275, 0.33682979033320104, 0.31914147696862355, 0.3039575365633026, 0.2879904952348716, 0.27753610473460066, 0.2617470749059488, 0.2521793696821504, 0.24731685337884374]\n"
          ],
          "name": "stdout"
        }
      ]
    },
    {
      "cell_type": "code",
      "metadata": {
        "id": "sy3w3gIHt9un",
        "colab": {
          "base_uri": "https://localhost:8080/",
          "height": 186
        },
        "outputId": "7824731c-5044-4e1b-edf9-095b4bd594ee"
      },
      "source": [
        "plt.plot(amps, h_avg_1)\n",
        "plt.axhline(512, color='r')"
      ],
      "execution_count": null,
      "outputs": [
        {
          "output_type": "error",
          "ename": "NameError",
          "evalue": "ignored",
          "traceback": [
            "\u001b[0;31m---------------------------------------------------------------------------\u001b[0m",
            "\u001b[0;31mNameError\u001b[0m                                 Traceback (most recent call last)",
            "\u001b[0;32m<ipython-input-1-ef0828272feb>\u001b[0m in \u001b[0;36m<module>\u001b[0;34m()\u001b[0m\n\u001b[0;32m----> 1\u001b[0;31m \u001b[0mplt\u001b[0m\u001b[0;34m.\u001b[0m\u001b[0mplot\u001b[0m\u001b[0;34m(\u001b[0m\u001b[0mamps\u001b[0m\u001b[0;34m,\u001b[0m \u001b[0mh_avg_1\u001b[0m\u001b[0;34m)\u001b[0m\u001b[0;34m\u001b[0m\u001b[0;34m\u001b[0m\u001b[0m\n\u001b[0m\u001b[1;32m      2\u001b[0m \u001b[0mplt\u001b[0m\u001b[0;34m.\u001b[0m\u001b[0maxhline\u001b[0m\u001b[0;34m(\u001b[0m\u001b[0;36m512\u001b[0m\u001b[0;34m,\u001b[0m \u001b[0mcolor\u001b[0m\u001b[0;34m=\u001b[0m\u001b[0;34m'r'\u001b[0m\u001b[0;34m)\u001b[0m\u001b[0;34m\u001b[0m\u001b[0;34m\u001b[0m\u001b[0m\n",
            "\u001b[0;31mNameError\u001b[0m: name 'plt' is not defined"
          ]
        }
      ]
    },
    {
      "cell_type": "code",
      "metadata": {
        "id": "TmSgwil1Kv7F",
        "colab": {
          "base_uri": "https://localhost:8080/",
          "height": 282
        },
        "outputId": "7f0afb31-cb29-480a-835e-0ef239cb9cd5"
      },
      "source": [
        ""
      ],
      "execution_count": null,
      "outputs": [
        {
          "output_type": "execute_result",
          "data": {
            "text/plain": [
              "<matplotlib.lines.Line2D at 0x7f7b3e2a8978>"
            ]
          },
          "metadata": {
            "tags": []
          },
          "execution_count": 185
        },
        {
          "output_type": "display_data",
          "data": {
            "image/png": "[encoded data removed]",
            "text/plain": [
              "<Figure size 432x288 with 1 Axes>"
            ]
          },
          "metadata": {
            "tags": [],
            "needs_background": "light"
          }
        }
      ]
    },
    {
      "cell_type": "code",
      "metadata": {
        "id": "O5EaJ7ZW7EoA"
      },
      "source": [
        "import numpy as np\n",
        "import matplotlib.pyplot as plt"
      ],
      "execution_count": null,
      "outputs": []
    },
    {
      "cell_type": "code",
      "metadata": {
        "id": "5kqk_77f6u0u"
      },
      "source": [
        "amps = [0.8803911498821971, 0.8606382909222071, 0.8081646743846611, 0.7568887033449109, 0.6471987716779701, 0.5977610131483283, 0.5546944047931383, 0.5105679225767973, 0.4845290084156977, 0.4414031032533915, 0.4078682343922708, 0.38273440403441344, 0.3625316551141775, 0.34861371438829275, 0.33682979033320104, 0.31914147696862355, 0.3039575365633026, 0.2879904952348716, 0.27753610473460066, 0.2617470749059488, 0.2521793696821504, 0.24731685337884374]"
      ],
      "execution_count": null,
      "outputs": []
    },
    {
      "cell_type": "code",
      "metadata": {
        "id": "jhNrN1S-7SjE"
      },
      "source": [
        "h_avg = [363.9, 427.9, 452.8, 514.4, 449.3, 431.7, 470.0, 445.3, 466.3, 448.9, 448.5, 441.7, 423.6, 507.0, 458.1, 451.1, 467.6, 528.0, 462.0, 443.5, 457.3, 461.2]"
      ],
      "execution_count": null,
      "outputs": []
    },
    {
      "cell_type": "code",
      "metadata": {
        "id": "sgd-jbah7KuG"
      },
      "source": [
        "x_avg = [840.2, 911.2, 934.4, 958.2, 934.4, 911.0, 954.9, 946.2, 926.3, 950.6, 946.2, 945.0, 935.2, 949.9, 953.8, 954.1, 960.5, 960.0, 957.7, 946.1, 944.1, 947.5]"
      ],
      "execution_count": null,
      "outputs": []
    },
    {
      "cell_type": "code",
      "metadata": {
        "id": "KHXQfVHS7O6i"
      },
      "source": [
        "from qiskit import QuantumRegister, ClassicalRegister, QuantumCircuit\n",
        "from qiskit import BasicAer, execute\n",
        "from qiskit.tools.visualization import plot_histogram\n",
        "from qiskit.tools.jupyter import *\n",
        "from qiskit import IBMQ\n",
        "from qiskit import transpile, schedule as build_schedule\n",
        "from qiskit.pulse import Schedule, Play, Gaussian, DriveChannel,ShiftPhase, Drag\n",
        "from qiskit import QuantumRegister, ClassicalRegister, QuantumCircuit\n",
        "from qiskit.tools.visualization import plot_histogram"
      ],
      "execution_count": null,
      "outputs": []
    },
    {
      "cell_type": "code",
      "metadata": {
        "id": "5e282ao67tv8",
        "colab": {
          "base_uri": "https://localhost:8080/"
        },
        "outputId": "d1bfc79a-e07d-4008-c062-153f49a6681a"
      },
      "source": [
        "IBMQ.save_account('24f1bb2782a6cfdd06501f5146b73ad546e8892fa55e1da503fb632e8400aee65f9bc6ff5f62eca98bb131ea7e71f8420edde7448ecdd1fac11b348161a517ae')\n",
        "IBMQ.load_account()\n",
        "provider = IBMQ.get_provider(hub='ibm-q', group='open', project='main')\n",
        "backend = provider.get_backend('ibmq_armonk')"
      ],
      "execution_count": null,
      "outputs": [
        {
          "output_type": "stream",
          "text": [
            "configrc.store_credentials:WARNING:2020-11-17 12:07:07,448: Credentials already present. Set overwrite=True to overwrite.\n",
            "/usr/local/lib/python3.6/dist-packages/qiskit/providers/ibmq/ibmqfactory.py:192: UserWarning: Timestamps in IBMQ backend properties, jobs, and job results are all now in local time instead of UTC.\n",
            "  warnings.warn('Timestamps in IBMQ backend properties, jobs, and job results '\n",
            "ibmqfactory.load_account:WARNING:2020-11-17 12:07:08,015: Credentials are already in use. The existing account in the session will be replaced.\n"
          ],
          "name": "stderr"
        }
      ]
    },
    {
      "cell_type": "code",
      "metadata": {
        "id": "z5kjw08S7YfB",
        "colab": {
          "base_uri": "https://localhost:8080/",
          "height": 93
        },
        "outputId": "0b2b8fc9-fd62-4a4d-feca-bf215ca91369"
      },
      "source": [
        "# Build the phase shift circuit\n",
        "h_qc = QuantumCircuit(1,1)\n",
        "h_qc.h(0)\n",
        "h_qc.measure(0,0)\n",
        "h_qc.draw()"
      ],
      "execution_count": null,
      "outputs": [
        {
          "output_type": "execute_result",
          "data": {
            "text/html": [
              "<pre style=\"word-wrap: normal;white-space: pre;background: #fff0;line-height: 1.1;font-family: &quot;Courier New&quot;,Courier,monospace\">     ┌───┐┌─┐\n",
              "q_0: ┤ H ├┤M├\n",
              "     └───┘└╥┘\n",
              "c: 1/══════╩═\n",
              "           0 </pre>"
            ],
            "text/plain": [
              "     ┌───┐┌─┐\n",
              "q_0: ┤ H ├┤M├\n",
              "     └───┘└╥┘\n",
              "c: 1/══════╩═\n",
              "           0 "
            ]
          },
          "metadata": {
            "tags": []
          },
          "execution_count": 19
        }
      ]
    },
    {
      "cell_type": "code",
      "metadata": {
        "id": "s_s5lCio7bHh"
      },
      "source": [
        "hsum = 0\n",
        "for i in range(0,10):\n",
        "  job = execute(h_qc, backend, shots=1024)  # shots default = 1024\n",
        "  hresult = job.result()\n",
        "  hsum += hresult.get_counts().get('1')\n",
        "\n",
        "base_h = hsum/10\n",
        "print(base_h)"
      ],
      "execution_count": null,
      "outputs": []
    },
    {
      "cell_type": "code",
      "metadata": {
        "id": "PZdIXsi27iY5",
        "colab": {
          "base_uri": "https://localhost:8080/",
          "height": 93
        },
        "outputId": "1311e49c-f744-439e-8db9-e1bd2956c6d6"
      },
      "source": [
        "# Build the phase shift circuit\n",
        "x_qc = QuantumCircuit(1,1)\n",
        "x_qc.x(0)\n",
        "x_qc.measure(0,0)\n",
        "x_qc.draw()"
      ],
      "execution_count": null,
      "outputs": [
        {
          "output_type": "execute_result",
          "data": {
            "text/html": [
              "<pre style=\"word-wrap: normal;white-space: pre;background: #fff0;line-height: 1.1;font-family: &quot;Courier New&quot;,Courier,monospace\">     ┌───┐┌─┐\n",
              "q_0: ┤ X ├┤M├\n",
              "     └───┘└╥┘\n",
              "c: 1/══════╩═\n",
              "           0 </pre>"
            ],
            "text/plain": [
              "     ┌───┐┌─┐\n",
              "q_0: ┤ X ├┤M├\n",
              "     └───┘└╥┘\n",
              "c: 1/══════╩═\n",
              "           0 "
            ]
          },
          "metadata": {
            "tags": []
          },
          "execution_count": 20
        }
      ]
    },
    {
      "cell_type": "code",
      "metadata": {
        "id": "ll9J4m6776Xu"
      },
      "source": [
        "xsum = 0\n",
        "for i in range(0,10):\n",
        "  job = execute(x_qc, backend, shots=1024)  # shots default = 1024\n",
        "  xresult = job.result()\n",
        "  xsum += xresult.get_counts().get('1')\n",
        "base_x = xsum/10\n",
        "print(base_x)"
      ],
      "execution_count": null,
      "outputs": []
    },
    {
      "cell_type": "code",
      "metadata": {
        "id": "707-FFezBUsG",
        "colab": {
          "base_uri": "https://localhost:8080/",
          "height": 282
        },
        "outputId": "32b409b2-e861-47e8-928a-e5351b6c223d"
      },
      "source": [
        "plt.plot(amps, h_avg)\n",
        "plt.axhline(512, color='r')"
      ],
      "execution_count": null,
      "outputs": [
        {
          "output_type": "execute_result",
          "data": {
            "text/plain": [
              "<matplotlib.lines.Line2D at 0x7f9e3f2fe6a0>"
            ]
          },
          "metadata": {
            "tags": []
          },
          "execution_count": 7
        },
        {
          "output_type": "display_data",
          "data": {
            "image/png": "[encoded data removed]",
            "text/plain": [
              "<Figure size 432x288 with 1 Axes>"
            ]
          },
          "metadata": {
            "tags": [],
            "needs_background": "light"
          }
        }
      ]
    },
    {
      "cell_type": "code",
      "metadata": {
        "id": "aD6mKUg8GzGo",
        "colab": {
          "base_uri": "https://localhost:8080/",
          "height": 282
        },
        "outputId": "a0f8363a-c853-4135-8191-69af308c4af8"
      },
      "source": [
        "plt.plot(amps, x_avg)\n",
        "plt.axhline(1024, color='r')"
      ],
      "execution_count": null,
      "outputs": [
        {
          "output_type": "execute_result",
          "data": {
            "text/plain": [
              "<matplotlib.lines.Line2D at 0x7f9e3f2fe4a8>"
            ]
          },
          "metadata": {
            "tags": []
          },
          "execution_count": 8
        },
        {
          "output_type": "display_data",
          "data": {
            "image/png": "[encoded data removed]",
            "text/plain": [
              "<Figure size 432x288 with 1 Axes>"
            ]
          },
          "metadata": {
            "tags": [],
            "needs_background": "light"
          }
        }
      ]
    },
    {
      "cell_type": "code",
      "metadata": {
        "id": "9Ui8ZEboHD2f"
      },
      "source": [
        ""
      ],
      "execution_count": null,
      "outputs": []
    }
  ]
}